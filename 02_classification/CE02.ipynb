{
 "cells": [
  {
   "cell_type": "code",
   "execution_count": 194,
   "id": "c6e03255-7f32-443a-a292-d752ec35f1cd",
   "metadata": {},
   "outputs": [],
   "source": [
    "from tools import load_iris, split_train_test\n",
    "\n",
    "import matplotlib.pyplot as plt\n",
    "import numpy as np\n",
    "from scipy.stats import norm\n",
    "from scipy.stats import multivariate_normal\n"
   ]
  },
  {
   "cell_type": "markdown",
   "id": "4c63d07b",
   "metadata": {},
   "source": [
    "Section 1:"
   ]
  },
  {
   "cell_type": "code",
   "execution_count": 163,
   "id": "5c889cae",
   "metadata": {},
   "outputs": [],
   "source": [
    "def gen_data(\n",
    "    n: int,\n",
    "    locs: np.ndarray,\n",
    "    scales: np.ndarray\n",
    ") -> np.ndarray:\n",
    "    '''\n",
    "    Return n data points, their classes and a unique list of all classes, from each normal distributions\n",
    "    shifted and scaled by the values in locs and scales\n",
    "    '''\n",
    "    features = []\n",
    "    target_class = []\n",
    "    for i, (loc, scale) in enumerate(zip(locs, scales)):\n",
    "        # Generate n samples from the normal distribution with the given loc (mean) and scale (SD)\n",
    "        r = norm.rvs(loc=loc, scale=scale, size=n)\n",
    "        features.append(r)\n",
    "        target_class.append(np.full(n, i))  #assign same class label to all generated samples\n",
    "    features = np.concatenate(features)\n",
    "    target_class = np.concatenate(target_class)\n",
    "    classes = np.arange(len(locs))\n",
    "\n",
    "    # return all 3\n",
    "    return features, target_class, classes\n",
    "\n"
   ]
  },
  {
   "cell_type": "code",
   "execution_count": 15,
   "id": "33cb9504",
   "metadata": {},
   "outputs": [
    {
     "data": {
      "text/plain": [
       "(array([-1.16800792,  0.71457197,  0.84865952]),\n",
       " array([0, 1, 2]),\n",
       " array([0, 1, 2]))"
      ]
     },
     "execution_count": 15,
     "metadata": {},
     "output_type": "execute_result"
    }
   ],
   "source": [
    "gen_data(1, [-1, 0, 1], [2, 2, 2])"
   ]
  },
  {
   "cell_type": "code",
   "execution_count": 116,
   "id": "4f71b186",
   "metadata": {},
   "outputs": [
    {
     "data": {
      "text/plain": [
       "(array([ 5.13619199, -4.94932987,  8.6511066 ,  4.49299467]),\n",
       " array([0, 0, 1, 1]),\n",
       " array([0, 1]))"
      ]
     },
     "execution_count": 116,
     "metadata": {},
     "output_type": "execute_result"
    }
   ],
   "source": [
    "gen_data(2, [0, 2], [4, 4])"
   ]
  },
  {
   "cell_type": "code",
   "execution_count": 164,
   "id": "1d2a114b",
   "metadata": {},
   "outputs": [],
   "source": [
    "features, targets, classes = gen_data(50, [-1, 1], [np.sqrt(5), np.sqrt(5)])"
   ]
  },
  {
   "cell_type": "code",
   "execution_count": 195,
   "id": "8c75e279",
   "metadata": {},
   "outputs": [],
   "source": [
    "#print(features, targets)"
   ]
  },
  {
   "cell_type": "code",
   "execution_count": 165,
   "id": "e5ea097a",
   "metadata": {},
   "outputs": [],
   "source": [
    "(train_features, train_targets), (test_features, test_targets)\\\n",
    "    = split_train_test(features, targets, train_ratio=0.8)"
   ]
  },
  {
   "cell_type": "markdown",
   "id": "57be1fb6",
   "metadata": {},
   "source": [
    "Section 2:"
   ]
  },
  {
   "cell_type": "code",
   "execution_count": 146,
   "id": "1a395113",
   "metadata": {},
   "outputs": [],
   "source": [
    "def plot_data(data: np.ndarray, labels: np.ndarray):\n",
    "    '''\n",
    "    Plot the data points using scatter, colored by their class.\n",
    "    '''\n",
    "    plt.figure()\n",
    "    class_0 = data[labels == 0]\n",
    "    class_1 = data[labels == 1]\n",
    "\n",
    "    # Create scatter plot, where the color of each point corresponds to its class label\n",
    "    plt.scatter(class_0, np.zeros_like(class_0), c='blue', marker='o')\n",
    "    plt.scatter(class_1, np.zeros_like(class_1), c= 'orange', marker = 'x')\n",
    "    plt.savefig('2_1.png')\n",
    "\n",
    "    # Display the plot\n",
    "    plt.show()\n"
   ]
  },
  {
   "cell_type": "code",
   "execution_count": 166,
   "id": "865c2b25",
   "metadata": {},
   "outputs": [
    {
     "data": {
      "image/png": "[encoded data removed]",
      "text/plain": [
       "<Figure size 640x480 with 1 Axes>"
      ]
     },
     "metadata": {},
     "output_type": "display_data"
    }
   ],
   "source": [
    "%matplotlib inline\n",
    "plot_data(features, targets)\n"
   ]
  },
  {
   "cell_type": "markdown",
   "id": "36b8c61e",
   "metadata": {},
   "source": [
    "Section 3:"
   ]
  },
  {
   "cell_type": "code",
   "execution_count": 184,
   "id": "d0514e8f",
   "metadata": {},
   "outputs": [],
   "source": [
    "def mean_of_class(\n",
    "    features: np.ndarray,\n",
    "    targets: np.ndarray,\n",
    "    selected_class: int\n",
    ") -> np.ndarray:\n",
    "    '''\n",
    "    Estimate the mean of a selected class given all features\n",
    "    and targets in a dataset\n",
    "    '''\n",
    "    #data = []\n",
    "    #for feature, target in zip(features, targets):\n",
    "    #    if target == selected_class:\n",
    "    #        data.append(feature)\n",
    "    #return np.mean(data)\n",
    "    \n",
    "    # Filter the features where the target matches the selected class\n",
    "    class_features = features[targets == selected_class]\n",
    "\n",
    "    # If no samples belong to the selected class\n",
    "    if class_features.shape[0] == 0:\n",
    "        return np.nan  # missing data\n",
    "    \n",
    "    # Compute the mean of the selected class\n",
    "    return np.mean(class_features, axis=0)\n"
   ]
  },
  {
   "cell_type": "code",
   "execution_count": 185,
   "id": "e1bd4ad3",
   "metadata": {},
   "outputs": [
    {
     "data": {
      "text/plain": [
       "np.float64(-0.5147130539618271)"
      ]
     },
     "execution_count": 185,
     "metadata": {},
     "output_type": "execute_result"
    }
   ],
   "source": [
    "mean_of_class(train_features, train_targets, 0)"
   ]
  },
  {
   "cell_type": "markdown",
   "id": "fb65cb4f",
   "metadata": {},
   "source": [
    "Section 4:"
   ]
  },
  {
   "cell_type": "code",
   "execution_count": 124,
   "id": "eba77bd4",
   "metadata": {},
   "outputs": [],
   "source": [
    "def estimate_covariance():\n",
    "    values = np.array([\n",
    "        [0.30, 8.60],\n",
    "        [0.20, 5.60],\n",
    "        [0.15, 2.30],\n",
    "        [0.35, 9.90],\n",
    "        [0.05, 0.10],\n",
    "    ])\n",
    "    # 'It seems like these values are correlated, lets plot.\n",
    "    plt.scatter(values[:, 0], values[:, 1])\n",
    "    plt.show()\n",
    "    # We can see from the plot that the values are indeed\n",
    "    # somewhat correlated. Lets print the covariance matrix\n",
    "    print(np.cov(values, rowvar=False))\n",
    "    # The values that are off the diagonal axis are covariances\n",
    "    # of each pair of variables in our data. A higher value\n",
    "    # means that the variables are more correlated\n",
    "    values = np.array([\n",
    "        [0.30, 8.60],\n",
    "        [0.20, 5.60],\n",
    "        [5.15, 9.30],\n",
    "        [0.35, 4.90],\n",
    "        [9.05, 0.10],\n",
    "    ])\n",
    "    # These variables don't seem that correlated. Lets plot again.\n",
    "    plt.scatter(values[:, 0], values[:, 1])\n",
    "    plt.show()\n",
    "    # The values are all over the place! Lets print the covariance\n",
    "    # matrix\n",
    "    print(np.cov(values, rowvar=False))\n",
    "    # We are right again. The off-diagonal values are way lower now,\n",
    "    # meaning that the variables are less correlated.\n",
    "\n",
    "#estimate_covariance()"
   ]
  },
  {
   "cell_type": "code",
   "execution_count": 186,
   "id": "94dfcab7",
   "metadata": {},
   "outputs": [],
   "source": [
    "def covar_of_class(\n",
    "    features: np.ndarray,\n",
    "    targets: np.ndarray,\n",
    "    selected_class: int\n",
    ") -> np.ndarray:\n",
    "    '''\n",
    "    Estimate the covariance of a selected class given all\n",
    "    features and targets in a dataset\n",
    "    '''\n",
    "    # Filter the features where the target matches the selected class\n",
    "    class_features = features[targets == selected_class]\n",
    "\n",
    "    # If no samples belong to the selected class\n",
    "    if class_features.shape[0] < 2:\n",
    "        return np.nan  # missing data\n",
    "    \n",
    "    # Compute the mean of the selected class\n",
    "    return np.cov(class_features, rowvar=False)"
   ]
  },
  {
   "cell_type": "code",
   "execution_count": 187,
   "id": "ead20273",
   "metadata": {},
   "outputs": [
    {
     "data": {
      "text/plain": [
       "array(3.50766881)"
      ]
     },
     "execution_count": 187,
     "metadata": {},
     "output_type": "execute_result"
    }
   ],
   "source": [
    "covar_of_class(train_features, train_targets, 0)"
   ]
  },
  {
   "cell_type": "markdown",
   "id": "d4d13180",
   "metadata": {},
   "source": [
    "Section 5:"
   ]
  },
  {
   "cell_type": "code",
   "execution_count": 189,
   "id": "b1c76622",
   "metadata": {},
   "outputs": [],
   "source": [
    "def likelihood_of_class(\n",
    "    feature: np.ndarray,\n",
    "    class_mean: np.ndarray,\n",
    "    class_covar: np.ndarray\n",
    ") -> float:\n",
    "    '''\n",
    "    Estimate the likelihood that a sample is drawn\n",
    "    from a multivariate normal distribution, given the mean\n",
    "    and covariance of the distribution.\n",
    "    '''\n",
    "    if feature.ndim == 1:\n",
    "        # Univariate normal distribution\n",
    "        return norm.pdf(feature, loc=class_mean, scale=np.sqrt(class_covar))\n",
    "    \n",
    "    # Multidimensional case (multivariate normal distribution)\n",
    "    return multivariate_normal.pdf(feature, mean=class_mean, cov=class_covar)\n",
    "\n"
   ]
  },
  {
   "cell_type": "code",
   "execution_count": 190,
   "id": "9081491f",
   "metadata": {},
   "outputs": [],
   "source": [
    "class_mean = mean_of_class(train_features, train_targets, 0)\n",
    "class_cov = covar_of_class(train_features, train_targets, 0)"
   ]
  },
  {
   "cell_type": "code",
   "execution_count": 191,
   "id": "331c959a",
   "metadata": {},
   "outputs": [
    {
     "data": {
      "text/plain": [
       "array([0.04587101, 0.03149658, 0.0828333 ])"
      ]
     },
     "execution_count": 191,
     "metadata": {},
     "output_type": "execute_result"
    }
   ],
   "source": [
    "likelihood_of_class(test_features[0:3], class_mean, class_cov)"
   ]
  },
  {
   "cell_type": "markdown",
   "id": "d74b64cd",
   "metadata": {},
   "source": [
    "Section 6: "
   ]
  },
  {
   "cell_type": "code",
   "execution_count": 192,
   "id": "1caf4186",
   "metadata": {},
   "outputs": [],
   "source": [
    "def maximum_likelihood(\n",
    "    train_features: np.ndarray,\n",
    "    train_targets: np.ndarray,\n",
    "    test_features: np.ndarray,\n",
    "    classes: list\n",
    ") -> np.ndarray:\n",
    "    '''\n",
    "    Calculate the maximum likelihood for each test point in\n",
    "    test_features by first estimating the mean and covariance\n",
    "    of all classes over the training set.\n",
    "\n",
    "    You should return\n",
    "    a [test_features.shape[0] x len(classes)] shaped numpy\n",
    "    array\n",
    "    '''\n",
    "    means, covs = [], []\n",
    "    for class_label in classes:\n",
    "        class_mean = mean_of_class(train_features, train_targets, class_label)\n",
    "        means.append(class_mean)\n",
    "        class_cov = covar_of_class(train_features, train_targets, class_label)\n",
    "        covs.append(class_cov)\n",
    "    likelihoods = np.zeros((test_features.shape[0], len(classes)))\n",
    "    for i in range(test_features.shape[0]):\n",
    "        for j, (mean, cov) in enumerate(zip(means, covs)):\n",
    "            likelihoods[i,j] = likelihood_of_class(test_features[i], mean, cov)\n",
    "    return np.array(likelihoods)\n"
   ]
  },
  {
   "cell_type": "code",
   "execution_count": 193,
   "id": "010f2ab6",
   "metadata": {},
   "outputs": [
    {
     "data": {
      "text/plain": [
       "array([[0.04587101, 0.02641078],\n",
       "       [0.03149658, 0.01959421],\n",
       "       [0.0828333 , 0.14439926],\n",
       "       [0.21212474, 0.12843641],\n",
       "       [0.17639133, 0.15781572],\n",
       "       [0.18659039, 0.15589498],\n",
       "       [0.16575864, 0.15884219],\n",
       "       [0.1020616 , 0.05225346],\n",
       "       [0.08217091, 0.04303305],\n",
       "       [0.20048696, 0.111219  ],\n",
       "       [0.02242265, 0.09662576],\n",
       "       [0.17962064, 0.09434233],\n",
       "       [0.20740056, 0.14605708],\n",
       "       [0.16519989, 0.0850918 ],\n",
       "       [0.19450796, 0.15349854],\n",
       "       [0.19740467, 0.15233493],\n",
       "       [0.19857827, 0.10935214],\n",
       "       [0.21298042, 0.13496193],\n",
       "       [0.13728478, 0.06956399]])"
      ]
     },
     "execution_count": 193,
     "metadata": {},
     "output_type": "execute_result"
    }
   ],
   "source": [
    "maximum_likelihood(train_features, train_targets, test_features, classes)"
   ]
  },
  {
   "cell_type": "code",
   "execution_count": 149,
   "id": "d9230242",
   "metadata": {},
   "outputs": [
    {
     "name": "stdout",
     "output_type": "stream",
     "text": [
      "[ 2.21985962 -3.22955332 -0.08521854  2.43765707 -1.29562955  5.13605821\n",
      " -3.66404304 -1.24114953  3.79461912  2.30570327 -0.8201847   1.5677557\n",
      " -1.0048792   1.36698162 -2.77967434  1.23317103  0.16763346  0.38521262\n",
      " -0.50676385]\n"
     ]
    }
   ],
   "source": [
    "print(test_features)"
   ]
  },
  {
   "cell_type": "markdown",
   "id": "ce3f3962",
   "metadata": {},
   "source": [
    "Section 7:"
   ]
  },
  {
   "cell_type": "code",
   "execution_count": 158,
   "id": "9925485d",
   "metadata": {},
   "outputs": [],
   "source": [
    "def predict(likelihoods: np.ndarray):\n",
    "    '''\n",
    "    Given an array of shape [num_datapoints x num_classes]\n",
    "    make a prediction for each datapoint by choosing the\n",
    "    highest likelihood.\n",
    "\n",
    "    You should return a [likelihoods.shape[0]] shaped numpy\n",
    "    array of predictions, e.g. [0, 1, 0, ..., 1, 2]\n",
    "    '''\n",
    "    return np.argmax(likelihoods, axis =1)"
   ]
  },
  {
   "cell_type": "code",
   "execution_count": 168,
   "id": "588d3239",
   "metadata": {},
   "outputs": [],
   "source": [
    "likelihoods = maximum_likelihood(train_features, train_targets, test_features, classes)\n",
    "predictions = predict(likelihoods)"
   ]
  },
  {
   "cell_type": "code",
   "execution_count": 169,
   "id": "97e2e2dd",
   "metadata": {},
   "outputs": [
    {
     "name": "stdout",
     "output_type": "stream",
     "text": [
      "[0 0 1 0 0 0 0 0 0 0 1 0 0 0 0 0 0 0 0] [0 0 1 1 0 0 1 1 0 0 1 0 0 1 0 1 0 0 0]\n"
     ]
    }
   ],
   "source": [
    "print(predictions, test_targets)"
   ]
  },
  {
   "cell_type": "code",
   "execution_count": 153,
   "id": "36df5e2c",
   "metadata": {},
   "outputs": [],
   "source": [
    "def calculate_accuracy(predictions: np.ndarray, targets: np.ndarray) -> float:\n",
    "    '''\n",
    "    Calculate the accuracy of predictions compared to the true targets.\n",
    "\n",
    "    Accuracy = (Number of correct predictions) / (Total number of predictions)\n",
    "    '''\n",
    "    correct_predictions = np.sum(predictions == targets)  # Count correct predictions\n",
    "    total_predictions = len(targets)  # Total number of predictions\n",
    "\n",
    "    # Calculate accuracy\n",
    "    accuracy = correct_predictions / total_predictions\n",
    "    return accuracy\n"
   ]
  },
  {
   "cell_type": "code",
   "execution_count": 170,
   "id": "3bf77f97",
   "metadata": {},
   "outputs": [
    {
     "data": {
      "text/plain": [
       "np.float64(0.7368421052631579)"
      ]
     },
     "execution_count": 170,
     "metadata": {},
     "output_type": "execute_result"
    }
   ],
   "source": [
    "calculate_accuracy(predictions, test_targets)"
   ]
  },
  {
   "cell_type": "code",
   "execution_count": 81,
   "id": "4b09cd74",
   "metadata": {},
   "outputs": [
    {
     "name": "stdout",
     "output_type": "stream",
     "text": [
      "7.804613388280547e-109\n",
      "2.1477263697893486e-238\n",
      "7.27401424981952e-08\n",
      "0.0\n"
     ]
    }
   ],
   "source": [
    "\n",
    "def multivariate_normal_pdf():\n",
    "    # lets assume that we have estimated some mean and covariance\n",
    "    # of some class in a dataset\n",
    "    mean = np.array([0.5, 3.8])\n",
    "    cov = np.array([\n",
    "        [1.4250e-02, 4.8750e-01],\n",
    "        [4.8750e-01, 1.7045e+01]])\n",
    "    # Using these parameters we can define a multivariate normal\n",
    "    # probability distribution. We can use the distribution to\n",
    "    # acquire the relative likelihood of a new data point being\n",
    "    # sampled from the distribution:\n",
    "    print(multivariate_normal(mean=mean, cov=cov).pdf([0, 0]))\n",
    "    print(multivariate_normal(mean=mean, cov=cov).pdf([1, 1]))\n",
    "    print(multivariate_normal(mean=mean, cov=cov).pdf([0.4, 3.9]))\n",
    "    print(multivariate_normal(mean=mean, cov=cov).pdf([100, 100]))\n",
    "    # It seems like [0.4, 3.9] is the most likely to be sampled\n",
    "    # from this distribution\n",
    "multivariate_normal_pdf()"
   ]
  },
  {
   "cell_type": "markdown",
   "id": "58b4d70d",
   "metadata": {},
   "source": [
    "Section 8:"
   ]
  },
  {
   "cell_type": "code",
   "execution_count": 196,
   "id": "0724b800",
   "metadata": {},
   "outputs": [],
   "source": [
    "#create a new dataset with 50 datapoints:\n",
    "features_1, targets_1, classes_1 = gen_data(50, [-4, 4], [np.sqrt(2), np.sqrt(2)])"
   ]
  },
  {
   "cell_type": "code",
   "execution_count": 197,
   "id": "8870a3cb",
   "metadata": {},
   "outputs": [],
   "source": [
    "(train_features_1, train_targets_1), (test_features_1, test_targets_1)\\\n",
    "    = split_train_test(features_1, targets_1, train_ratio=0.8)"
   ]
  },
  {
   "cell_type": "code",
   "execution_count": 198,
   "id": "76758937",
   "metadata": {},
   "outputs": [
    {
     "data": {
      "image/png": "[encoded data removed]",
      "text/plain": [
       "<Figure size 640x480 with 1 Axes>"
      ]
     },
     "metadata": {},
     "output_type": "display_data"
    }
   ],
   "source": [
    "plot_data(features_1, targets_1)"
   ]
  },
  {
   "cell_type": "code",
   "execution_count": 199,
   "id": "f1637c21",
   "metadata": {},
   "outputs": [],
   "source": [
    "likelihoods_1 = maximum_likelihood(train_features_1, train_targets_1, test_features_1, classes_1)\n",
    "predictions_1 = predict(likelihoods_1)"
   ]
  },
  {
   "cell_type": "code",
   "execution_count": 200,
   "id": "cb676f64",
   "metadata": {},
   "outputs": [
    {
     "name": "stdout",
     "output_type": "stream",
     "text": [
      "[[2.10891716e-01 3.44980208e-10]\n",
      " [1.86323518e-08 2.70251651e-01]\n",
      " [9.53377948e-12 1.82968339e-01]\n",
      " [9.45238027e-09 2.75032535e-01]\n",
      " [1.08897046e-08 2.74308097e-01]\n",
      " [6.46184380e-04 1.78023099e-02]\n",
      " [2.88752103e-01 1.30018416e-08]\n",
      " [3.37588246e-09 2.76074143e-01]\n",
      " [2.49831701e-01 6.15449162e-07]\n",
      " [2.88952496e-01 8.84784554e-08]\n",
      " [3.32289687e-17 1.42875670e-02]\n",
      " [3.31990902e-08 2.63580424e-01]\n",
      " [1.87742534e-01 3.54438877e-06]\n",
      " [3.68721275e-02 2.74863463e-04]\n",
      " [1.05119153e-05 1.07421108e-01]\n",
      " [5.02912660e-09 2.76538289e-01]\n",
      " [8.01203729e-08 2.48933755e-01]\n",
      " [2.64955320e-01 2.86241997e-09]\n",
      " [2.86607656e-01 1.09165559e-07]]\n"
     ]
    }
   ],
   "source": [
    "print(likelihoods_1)"
   ]
  },
  {
   "cell_type": "code",
   "execution_count": 201,
   "id": "0133f662",
   "metadata": {},
   "outputs": [
    {
     "data": {
      "text/plain": [
       "np.float64(1.0)"
      ]
     },
     "execution_count": 201,
     "metadata": {},
     "output_type": "execute_result"
    }
   ],
   "source": [
    "calculate_accuracy(predictions_1, test_targets_1)"
   ]
  }
 ],
 "metadata": {
  "kernelspec": {
   "display_name": "school",
   "language": "python",
   "name": "python3"
  },
  "language_info": {
   "codemirror_mode": {
    "name": "ipython",
    "version": 3
   },
   "file_extension": ".py",
   "mimetype": "text/x-python",
   "name": "python",
   "nbconvert_exporter": "python",
   "pygments_lexer": "ipython3",
   "version": "3.12.4"
  }
 },
 "nbformat": 4,
 "nbformat_minor": 5
}
